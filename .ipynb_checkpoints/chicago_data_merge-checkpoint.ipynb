{
 "cells": [
  {
   "cell_type": "markdown",
   "metadata": {},
   "source": [
    "# Objective - Merge Dataframes from all analyses, output as JSON file"
   ]
  },
  {
   "cell_type": "code",
   "execution_count": 10,
   "metadata": {},
   "outputs": [],
   "source": [
    "# Dependencies and Setup\n",
    "import matplotlib.pyplot as plt\n",
    "import pandas as pd\n",
    "import pymongo\n",
    "import json"
   ]
  },
  {
   "cell_type": "markdown",
   "metadata": {},
   "source": [
    "# Import cleaned CSV files from Resources folder"
   ]
  },
  {
   "cell_type": "code",
   "execution_count": 11,
   "metadata": {
    "scrolled": true
   },
   "outputs": [
    {
     "data": {
      "text/html": [
       "<div>\n",
       "<style scoped>\n",
       "    .dataframe tbody tr th:only-of-type {\n",
       "        vertical-align: middle;\n",
       "    }\n",
       "\n",
       "    .dataframe tbody tr th {\n",
       "        vertical-align: top;\n",
       "    }\n",
       "\n",
       "    .dataframe thead th {\n",
       "        text-align: right;\n",
       "    }\n",
       "</style>\n",
       "<table border=\"1\" class=\"dataframe\">\n",
       "  <thead>\n",
       "    <tr style=\"text-align: right;\">\n",
       "      <th></th>\n",
       "      <th>Dates</th>\n",
       "      <th>Total Visitors</th>\n",
       "    </tr>\n",
       "  </thead>\n",
       "  <tbody>\n",
       "    <tr>\n",
       "      <th>0</th>\n",
       "      <td>2017-01-01</td>\n",
       "      <td>668436</td>\n",
       "    </tr>\n",
       "    <tr>\n",
       "      <th>1</th>\n",
       "      <td>2017-02-01</td>\n",
       "      <td>629435</td>\n",
       "    </tr>\n",
       "    <tr>\n",
       "      <th>2</th>\n",
       "      <td>2017-03-01</td>\n",
       "      <td>727423</td>\n",
       "    </tr>\n",
       "    <tr>\n",
       "      <th>3</th>\n",
       "      <td>2017-04-01</td>\n",
       "      <td>688882</td>\n",
       "    </tr>\n",
       "    <tr>\n",
       "      <th>4</th>\n",
       "      <td>2017-05-01</td>\n",
       "      <td>781547</td>\n",
       "    </tr>\n",
       "  </tbody>\n",
       "</table>\n",
       "</div>"
      ],
      "text/plain": [
       "        Dates  Total Visitors\n",
       "0  2017-01-01          668436\n",
       "1  2017-02-01          629435\n",
       "2  2017-03-01          727423\n",
       "3  2017-04-01          688882\n",
       "4  2017-05-01          781547"
      ]
     },
     "execution_count": 11,
     "metadata": {},
     "output_type": "execute_result"
    }
   ],
   "source": [
    "# Read in CSV files from Resources folder\n",
    "crime_df = pd.read_csv('Resources/chicago_crime_ouput.csv')\n",
    "weather_df = pd.read_csv('Resources/chicago_weather_ouput.csv')\n",
    "traffic_df = pd.read_csv('Resources/Chicago_Monthly_Traffic_Crashes_2017-2018.csv')\n",
    "visitors_df = pd.read_csv('Resources/chicago_visitors.csv')\n",
    "\n",
    "visitors_df.head()"
   ]
  },
  {
   "cell_type": "markdown",
   "metadata": {},
   "source": [
    "# Merge Crime and Weather outputs"
   ]
  },
  {
   "cell_type": "code",
   "execution_count": 12,
   "metadata": {},
   "outputs": [
    {
     "data": {
      "text/html": [
       "<div>\n",
       "<style scoped>\n",
       "    .dataframe tbody tr th:only-of-type {\n",
       "        vertical-align: middle;\n",
       "    }\n",
       "\n",
       "    .dataframe tbody tr th {\n",
       "        vertical-align: top;\n",
       "    }\n",
       "\n",
       "    .dataframe thead th {\n",
       "        text-align: right;\n",
       "    }\n",
       "</style>\n",
       "<table border=\"1\" class=\"dataframe\">\n",
       "  <thead>\n",
       "    <tr style=\"text-align: right;\">\n",
       "      <th></th>\n",
       "      <th>Dates</th>\n",
       "      <th>Robbery</th>\n",
       "      <th>Assault</th>\n",
       "      <th>Sexual Assault</th>\n",
       "      <th>max_temp</th>\n",
       "      <th>min_temp</th>\n",
       "      <th>winds</th>\n",
       "    </tr>\n",
       "  </thead>\n",
       "  <tbody>\n",
       "    <tr>\n",
       "      <th>0</th>\n",
       "      <td>2017-01</td>\n",
       "      <td>1075</td>\n",
       "      <td>1373</td>\n",
       "      <td>154</td>\n",
       "      <td>32.194971</td>\n",
       "      <td>27.789326</td>\n",
       "      <td>4.018817</td>\n",
       "    </tr>\n",
       "    <tr>\n",
       "      <th>1</th>\n",
       "      <td>2017-02</td>\n",
       "      <td>787</td>\n",
       "      <td>1295</td>\n",
       "      <td>124</td>\n",
       "      <td>39.188188</td>\n",
       "      <td>35.333724</td>\n",
       "      <td>4.343750</td>\n",
       "    </tr>\n",
       "    <tr>\n",
       "      <th>2</th>\n",
       "      <td>2017-03</td>\n",
       "      <td>783</td>\n",
       "      <td>1486</td>\n",
       "      <td>105</td>\n",
       "      <td>42.042916</td>\n",
       "      <td>36.364690</td>\n",
       "      <td>4.955645</td>\n",
       "    </tr>\n",
       "    <tr>\n",
       "      <th>3</th>\n",
       "      <td>2017-04</td>\n",
       "      <td>851</td>\n",
       "      <td>1638</td>\n",
       "      <td>146</td>\n",
       "      <td>57.387495</td>\n",
       "      <td>50.449995</td>\n",
       "      <td>4.586111</td>\n",
       "    </tr>\n",
       "    <tr>\n",
       "      <th>4</th>\n",
       "      <td>2017-05</td>\n",
       "      <td>903</td>\n",
       "      <td>1853</td>\n",
       "      <td>133</td>\n",
       "      <td>61.430484</td>\n",
       "      <td>54.624839</td>\n",
       "      <td>4.419355</td>\n",
       "    </tr>\n",
       "  </tbody>\n",
       "</table>\n",
       "</div>"
      ],
      "text/plain": [
       "     Dates  Robbery  Assault  Sexual Assault   max_temp   min_temp     winds\n",
       "0  2017-01     1075     1373             154  32.194971  27.789326  4.018817\n",
       "1  2017-02      787     1295             124  39.188188  35.333724  4.343750\n",
       "2  2017-03      783     1486             105  42.042916  36.364690  4.955645\n",
       "3  2017-04      851     1638             146  57.387495  50.449995  4.586111\n",
       "4  2017-05      903     1853             133  61.430484  54.624839  4.419355"
      ]
     },
     "execution_count": 12,
     "metadata": {},
     "output_type": "execute_result"
    }
   ],
   "source": [
    "#Rename chicago_weather column from 'dates' to 'Dates'\n",
    "weather_df.rename(columns={'dates': 'Dates'}, inplace=True)\n",
    "\n",
    "#PD Merge\n",
    "chicago_master_output = pd.merge(crime_df, weather_df,  on='Dates')\n",
    "chicago_master_output.head()"
   ]
  },
  {
   "cell_type": "markdown",
   "metadata": {},
   "source": [
    "# Merge traffic_df with chicago_master_output"
   ]
  },
  {
   "cell_type": "code",
   "execution_count": 13,
   "metadata": {},
   "outputs": [
    {
     "data": {
      "text/html": [
       "<div>\n",
       "<style scoped>\n",
       "    .dataframe tbody tr th:only-of-type {\n",
       "        vertical-align: middle;\n",
       "    }\n",
       "\n",
       "    .dataframe tbody tr th {\n",
       "        vertical-align: top;\n",
       "    }\n",
       "\n",
       "    .dataframe thead th {\n",
       "        text-align: right;\n",
       "    }\n",
       "</style>\n",
       "<table border=\"1\" class=\"dataframe\">\n",
       "  <thead>\n",
       "    <tr style=\"text-align: right;\">\n",
       "      <th></th>\n",
       "      <th>Dates</th>\n",
       "      <th>Robbery</th>\n",
       "      <th>Assault</th>\n",
       "      <th>Sexual Assault</th>\n",
       "      <th>max_temp</th>\n",
       "      <th>min_temp</th>\n",
       "      <th>winds</th>\n",
       "      <th>Crashes</th>\n",
       "    </tr>\n",
       "  </thead>\n",
       "  <tbody>\n",
       "    <tr>\n",
       "      <th>0</th>\n",
       "      <td>2017-01</td>\n",
       "      <td>1075</td>\n",
       "      <td>1373</td>\n",
       "      <td>154</td>\n",
       "      <td>32.194971</td>\n",
       "      <td>27.789326</td>\n",
       "      <td>4.018817</td>\n",
       "      <td>8670</td>\n",
       "    </tr>\n",
       "    <tr>\n",
       "      <th>1</th>\n",
       "      <td>2017-02</td>\n",
       "      <td>787</td>\n",
       "      <td>1295</td>\n",
       "      <td>124</td>\n",
       "      <td>39.188188</td>\n",
       "      <td>35.333724</td>\n",
       "      <td>4.343750</td>\n",
       "      <td>8274</td>\n",
       "    </tr>\n",
       "    <tr>\n",
       "      <th>2</th>\n",
       "      <td>2017-03</td>\n",
       "      <td>783</td>\n",
       "      <td>1486</td>\n",
       "      <td>105</td>\n",
       "      <td>42.042916</td>\n",
       "      <td>36.364690</td>\n",
       "      <td>4.955645</td>\n",
       "      <td>10220</td>\n",
       "    </tr>\n",
       "    <tr>\n",
       "      <th>3</th>\n",
       "      <td>2017-04</td>\n",
       "      <td>851</td>\n",
       "      <td>1638</td>\n",
       "      <td>146</td>\n",
       "      <td>57.387495</td>\n",
       "      <td>50.449995</td>\n",
       "      <td>4.586111</td>\n",
       "      <td>10114</td>\n",
       "    </tr>\n",
       "    <tr>\n",
       "      <th>4</th>\n",
       "      <td>2017-05</td>\n",
       "      <td>903</td>\n",
       "      <td>1853</td>\n",
       "      <td>133</td>\n",
       "      <td>61.430484</td>\n",
       "      <td>54.624839</td>\n",
       "      <td>4.419355</td>\n",
       "      <td>11727</td>\n",
       "    </tr>\n",
       "  </tbody>\n",
       "</table>\n",
       "</div>"
      ],
      "text/plain": [
       "     Dates  Robbery  Assault  Sexual Assault   max_temp   min_temp     winds  \\\n",
       "0  2017-01     1075     1373             154  32.194971  27.789326  4.018817   \n",
       "1  2017-02      787     1295             124  39.188188  35.333724  4.343750   \n",
       "2  2017-03      783     1486             105  42.042916  36.364690  4.955645   \n",
       "3  2017-04      851     1638             146  57.387495  50.449995  4.586111   \n",
       "4  2017-05      903     1853             133  61.430484  54.624839  4.419355   \n",
       "\n",
       "   Crashes  \n",
       "0     8670  \n",
       "1     8274  \n",
       "2    10220  \n",
       "3    10114  \n",
       "4    11727  "
      ]
     },
     "execution_count": 13,
     "metadata": {},
     "output_type": "execute_result"
    }
   ],
   "source": [
    "#Strip down the traffic_df dates to yyyy-mm format\n",
    "dates=[]\n",
    "for row in traffic_df['Dates']:\n",
    "    dates.append(row[:7])\n",
    "traffic_df['Date'] = dates\n",
    "\n",
    "#Rename chicago_weather column from 'dates' to 'Dates'\n",
    "traffic_df = traffic_df.drop(['Dates'], axis=1)\n",
    "traffic_df.rename(columns={'Date': 'Dates'}, inplace=True)\n",
    "traffic_df.head()\n",
    "\n",
    "#PD Merge with chicago_master\n",
    "chicago_master_output = pd.merge(chicago_master_output, traffic_df,  on='Dates')\n",
    "chicago_master_output.head()"
   ]
  },
  {
   "cell_type": "markdown",
   "metadata": {},
   "source": [
    "# Merge visitors_df with chicago_master_output"
   ]
  },
  {
   "cell_type": "code",
   "execution_count": 14,
   "metadata": {},
   "outputs": [
    {
     "data": {
      "text/html": [
       "<div>\n",
       "<style scoped>\n",
       "    .dataframe tbody tr th:only-of-type {\n",
       "        vertical-align: middle;\n",
       "    }\n",
       "\n",
       "    .dataframe tbody tr th {\n",
       "        vertical-align: top;\n",
       "    }\n",
       "\n",
       "    .dataframe thead th {\n",
       "        text-align: right;\n",
       "    }\n",
       "</style>\n",
       "<table border=\"1\" class=\"dataframe\">\n",
       "  <thead>\n",
       "    <tr style=\"text-align: right;\">\n",
       "      <th></th>\n",
       "      <th>Dates</th>\n",
       "      <th>Robbery</th>\n",
       "      <th>Assault</th>\n",
       "      <th>Sexual Assault</th>\n",
       "      <th>max_temp</th>\n",
       "      <th>min_temp</th>\n",
       "      <th>winds</th>\n",
       "      <th>Crashes</th>\n",
       "      <th>Total Visitors</th>\n",
       "    </tr>\n",
       "  </thead>\n",
       "  <tbody>\n",
       "    <tr>\n",
       "      <th>0</th>\n",
       "      <td>2017-01</td>\n",
       "      <td>1075</td>\n",
       "      <td>1373</td>\n",
       "      <td>154</td>\n",
       "      <td>32.194971</td>\n",
       "      <td>27.789326</td>\n",
       "      <td>4.018817</td>\n",
       "      <td>8670</td>\n",
       "      <td>668436</td>\n",
       "    </tr>\n",
       "    <tr>\n",
       "      <th>1</th>\n",
       "      <td>2017-02</td>\n",
       "      <td>787</td>\n",
       "      <td>1295</td>\n",
       "      <td>124</td>\n",
       "      <td>39.188188</td>\n",
       "      <td>35.333724</td>\n",
       "      <td>4.343750</td>\n",
       "      <td>8274</td>\n",
       "      <td>629435</td>\n",
       "    </tr>\n",
       "    <tr>\n",
       "      <th>2</th>\n",
       "      <td>2017-03</td>\n",
       "      <td>783</td>\n",
       "      <td>1486</td>\n",
       "      <td>105</td>\n",
       "      <td>42.042916</td>\n",
       "      <td>36.364690</td>\n",
       "      <td>4.955645</td>\n",
       "      <td>10220</td>\n",
       "      <td>727423</td>\n",
       "    </tr>\n",
       "    <tr>\n",
       "      <th>3</th>\n",
       "      <td>2017-04</td>\n",
       "      <td>851</td>\n",
       "      <td>1638</td>\n",
       "      <td>146</td>\n",
       "      <td>57.387495</td>\n",
       "      <td>50.449995</td>\n",
       "      <td>4.586111</td>\n",
       "      <td>10114</td>\n",
       "      <td>688882</td>\n",
       "    </tr>\n",
       "    <tr>\n",
       "      <th>4</th>\n",
       "      <td>2017-05</td>\n",
       "      <td>903</td>\n",
       "      <td>1853</td>\n",
       "      <td>133</td>\n",
       "      <td>61.430484</td>\n",
       "      <td>54.624839</td>\n",
       "      <td>4.419355</td>\n",
       "      <td>11727</td>\n",
       "      <td>781547</td>\n",
       "    </tr>\n",
       "  </tbody>\n",
       "</table>\n",
       "</div>"
      ],
      "text/plain": [
       "     Dates  Robbery  Assault  Sexual Assault   max_temp   min_temp     winds  \\\n",
       "0  2017-01     1075     1373             154  32.194971  27.789326  4.018817   \n",
       "1  2017-02      787     1295             124  39.188188  35.333724  4.343750   \n",
       "2  2017-03      783     1486             105  42.042916  36.364690  4.955645   \n",
       "3  2017-04      851     1638             146  57.387495  50.449995  4.586111   \n",
       "4  2017-05      903     1853             133  61.430484  54.624839  4.419355   \n",
       "\n",
       "   Crashes  Total Visitors  \n",
       "0     8670          668436  \n",
       "1     8274          629435  \n",
       "2    10220          727423  \n",
       "3    10114          688882  \n",
       "4    11727          781547  "
      ]
     },
     "execution_count": 14,
     "metadata": {},
     "output_type": "execute_result"
    }
   ],
   "source": [
    "#Strip down the traffic_df dates to yyyy-mm format\n",
    "dates=[]\n",
    "for row in visitors_df['Dates']:\n",
    "    dates.append(row[:7])\n",
    "visitors_df['Dates'] = dates\n",
    "\n",
    "chicago_master_output = pd.merge(chicago_master_output, visitors_df,  on='Dates')\n",
    "chicago_master_output.head()"
   ]
  },
  {
   "cell_type": "markdown",
   "metadata": {},
   "source": [
    "# Covert chicago_master_output to JSON file"
   ]
  },
  {
   "cell_type": "code",
   "execution_count": 15,
   "metadata": {},
   "outputs": [],
   "source": [
    "chicago_master_output.to_json(r'Resources\\chicago_final.json', orient='index')"
   ]
  },
  {
   "cell_type": "markdown",
   "metadata": {},
   "source": [
    "# Import JSON file, write to MongoDB"
   ]
  },
  {
   "cell_type": "code",
   "execution_count": 25,
   "metadata": {
    "scrolled": false
   },
   "outputs": [
    {
     "data": {
      "text/plain": [
       "<pymongo.results.InsertOneResult at 0x209ed9a1f88>"
      ]
     },
     "execution_count": 25,
     "metadata": {},
     "output_type": "execute_result"
    }
   ],
   "source": [
    "#Convert merged output dataframe to a dictionary\n",
    "chicago_dict = chicago_master_output.to_dict(orient='list')\n",
    "chicago_dict\n",
    "\n",
    "# Initialize PyMongo to work with MongoDBs\n",
    "conn = 'mongodb://localhost:27017'\n",
    "client = pymongo.MongoClient(conn)\n",
    "\n",
    "# Define Mongo Database name, collection\n",
    "db = client.etl_project_chicago_db\n",
    "collection = db.items\n",
    "\n",
    "# Update the Mongo database using update and upsert=True\n",
    "collection.insert_one(chicago_dict)\n"
   ]
  },
  {
   "cell_type": "code",
   "execution_count": null,
   "metadata": {},
   "outputs": [],
   "source": []
  }
 ],
 "metadata": {
  "anaconda-cloud": {},
  "kernel_info": {
   "name": "python3"
  },
  "kernelspec": {
   "display_name": "Python 3",
   "language": "python",
   "name": "python3"
  },
  "language_info": {
   "codemirror_mode": {
    "name": "ipython",
    "version": 3
   },
   "file_extension": ".py",
   "mimetype": "text/x-python",
   "name": "python",
   "nbconvert_exporter": "python",
   "pygments_lexer": "ipython3",
   "version": "3.7.3"
  },
  "nteract": {
   "version": "0.12.3"
  }
 },
 "nbformat": 4,
 "nbformat_minor": 2
}
