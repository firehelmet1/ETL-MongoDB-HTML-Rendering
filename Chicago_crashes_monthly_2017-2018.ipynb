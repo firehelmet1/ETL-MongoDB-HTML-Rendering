{
 "cells": [
  {
   "cell_type": "code",
   "execution_count": 44,
   "metadata": {},
   "outputs": [],
   "source": [
    "import pandas as pd\n",
    "import numpy as np\n",
    "import datetime as dt"
   ]
  },
  {
   "cell_type": "code",
   "execution_count": 181,
   "metadata": {},
   "outputs": [
    {
     "data": {
      "text/plain": [
       "pandas.core.series.Series"
      ]
     },
     "execution_count": 181,
     "metadata": {},
     "output_type": "execute_result"
    }
   ],
   "source": [
    "cc_dates_file = \"Resources/Traffic_Crashes_Chicago_Dates_2017-2018.csv\"\n",
    "cc_dates_df = pd.read_csv(cc_dates_file, encoding=\"ISO-8859-1\")\n",
    "type(cc_dates_df['CRASH_DATE'])"
   ]
  },
  {
   "cell_type": "code",
   "execution_count": 182,
   "metadata": {},
   "outputs": [
    {
     "data": {
      "text/plain": [
       "CRASH_DATE            object\n",
       "date          datetime64[ns]\n",
       "month                  int64\n",
       "year                   int64\n",
       "dtype: object"
      ]
     },
     "execution_count": 182,
     "metadata": {},
     "output_type": "execute_result"
    }
   ],
   "source": [
    "cc_dates_df['date'] = pd.to_datetime(cc_dates_df['CRASH_DATE'])\n",
    "cc_dates_df['month'] =  cc_dates_df['date'].dt.month\n",
    "cc_dates_df['year'] =  cc_dates_df['date'].dt.year \n",
    "\n",
    "test_df = cc_dates_df.groupby(['year','month']).count()\n",
    "\n",
    "cc_dates_df.dtypes\n",
    "# test_df\n",
    "# cc_dates_df"
   ]
  },
  {
   "cell_type": "code",
   "execution_count": 183,
   "metadata": {},
   "outputs": [
    {
     "data": {
      "text/html": [
       "<div>\n",
       "<style scoped>\n",
       "    .dataframe tbody tr th:only-of-type {\n",
       "        vertical-align: middle;\n",
       "    }\n",
       "\n",
       "    .dataframe tbody tr th {\n",
       "        vertical-align: top;\n",
       "    }\n",
       "\n",
       "    .dataframe thead th {\n",
       "        text-align: right;\n",
       "    }\n",
       "</style>\n",
       "<table border=\"1\" class=\"dataframe\">\n",
       "  <thead>\n",
       "    <tr style=\"text-align: right;\">\n",
       "      <th></th>\n",
       "      <th>Dates</th>\n",
       "      <th>Crashes</th>\n",
       "    </tr>\n",
       "  </thead>\n",
       "  <tbody>\n",
       "    <tr>\n",
       "      <td>0</td>\n",
       "      <td>2018-12-31</td>\n",
       "      <td>2018-12-31</td>\n",
       "    </tr>\n",
       "    <tr>\n",
       "      <td>1</td>\n",
       "      <td>2018-12-31</td>\n",
       "      <td>2018-12-31</td>\n",
       "    </tr>\n",
       "    <tr>\n",
       "      <td>2</td>\n",
       "      <td>2018-12-31</td>\n",
       "      <td>2018-12-31</td>\n",
       "    </tr>\n",
       "    <tr>\n",
       "      <td>3</td>\n",
       "      <td>2018-12-31</td>\n",
       "      <td>2018-12-31</td>\n",
       "    </tr>\n",
       "    <tr>\n",
       "      <td>4</td>\n",
       "      <td>2018-12-31</td>\n",
       "      <td>2018-12-31</td>\n",
       "    </tr>\n",
       "    <tr>\n",
       "      <td>...</td>\n",
       "      <td>...</td>\n",
       "      <td>...</td>\n",
       "    </tr>\n",
       "    <tr>\n",
       "      <td>408558</td>\n",
       "      <td>2017-01-01</td>\n",
       "      <td>2017-01-01</td>\n",
       "    </tr>\n",
       "    <tr>\n",
       "      <td>408559</td>\n",
       "      <td>2017-01-01</td>\n",
       "      <td>2017-01-01</td>\n",
       "    </tr>\n",
       "    <tr>\n",
       "      <td>408560</td>\n",
       "      <td>2017-01-01</td>\n",
       "      <td>2017-01-01</td>\n",
       "    </tr>\n",
       "    <tr>\n",
       "      <td>408561</td>\n",
       "      <td>2017-01-01</td>\n",
       "      <td>2017-01-01</td>\n",
       "    </tr>\n",
       "    <tr>\n",
       "      <td>408562</td>\n",
       "      <td>2017-01-01</td>\n",
       "      <td>2017-01-01</td>\n",
       "    </tr>\n",
       "  </tbody>\n",
       "</table>\n",
       "<p>408563 rows × 2 columns</p>\n",
       "</div>"
      ],
      "text/plain": [
       "            Dates    Crashes\n",
       "0      2018-12-31 2018-12-31\n",
       "1      2018-12-31 2018-12-31\n",
       "2      2018-12-31 2018-12-31\n",
       "3      2018-12-31 2018-12-31\n",
       "4      2018-12-31 2018-12-31\n",
       "...           ...        ...\n",
       "408558 2017-01-01 2017-01-01\n",
       "408559 2017-01-01 2017-01-01\n",
       "408560 2017-01-01 2017-01-01\n",
       "408561 2017-01-01 2017-01-01\n",
       "408562 2017-01-01 2017-01-01\n",
       "\n",
       "[408563 rows x 2 columns]"
      ]
     },
     "execution_count": 183,
     "metadata": {},
     "output_type": "execute_result"
    }
   ],
   "source": [
    "cc_dates_df['CRASH_DATE'] = pd.to_datetime(cc_dates_df['CRASH_DATE'])\n",
    "cc_dates_df.columns = ['Dates','Crashes','month','year']\n",
    "cc_month_sum_df = cc_dates_df.drop(['month','year'], axis=1)\n",
    "cc_month_sum_df"
   ]
  },
  {
   "cell_type": "code",
   "execution_count": 186,
   "metadata": {},
   "outputs": [
    {
     "data": {
      "text/html": [
       "<div>\n",
       "<style scoped>\n",
       "    .dataframe tbody tr th:only-of-type {\n",
       "        vertical-align: middle;\n",
       "    }\n",
       "\n",
       "    .dataframe tbody tr th {\n",
       "        vertical-align: top;\n",
       "    }\n",
       "\n",
       "    .dataframe thead th {\n",
       "        text-align: right;\n",
       "    }\n",
       "</style>\n",
       "<table border=\"1\" class=\"dataframe\">\n",
       "  <thead>\n",
       "    <tr style=\"text-align: right;\">\n",
       "      <th></th>\n",
       "      <th>Crashes</th>\n",
       "    </tr>\n",
       "    <tr>\n",
       "      <th>Dates</th>\n",
       "      <th></th>\n",
       "    </tr>\n",
       "  </thead>\n",
       "  <tbody>\n",
       "    <tr>\n",
       "      <td>2017-01-01</td>\n",
       "      <td>279</td>\n",
       "    </tr>\n",
       "    <tr>\n",
       "      <td>2017-01-02</td>\n",
       "      <td>227</td>\n",
       "    </tr>\n",
       "    <tr>\n",
       "      <td>2017-01-03</td>\n",
       "      <td>281</td>\n",
       "    </tr>\n",
       "    <tr>\n",
       "      <td>2017-01-04</td>\n",
       "      <td>201</td>\n",
       "    </tr>\n",
       "    <tr>\n",
       "      <td>2017-01-05</td>\n",
       "      <td>254</td>\n",
       "    </tr>\n",
       "    <tr>\n",
       "      <td>...</td>\n",
       "      <td>...</td>\n",
       "    </tr>\n",
       "    <tr>\n",
       "      <td>2018-12-27</td>\n",
       "      <td>610</td>\n",
       "    </tr>\n",
       "    <tr>\n",
       "      <td>2018-12-28</td>\n",
       "      <td>569</td>\n",
       "    </tr>\n",
       "    <tr>\n",
       "      <td>2018-12-29</td>\n",
       "      <td>822</td>\n",
       "    </tr>\n",
       "    <tr>\n",
       "      <td>2018-12-30</td>\n",
       "      <td>534</td>\n",
       "    </tr>\n",
       "    <tr>\n",
       "      <td>2018-12-31</td>\n",
       "      <td>756</td>\n",
       "    </tr>\n",
       "  </tbody>\n",
       "</table>\n",
       "<p>730 rows × 1 columns</p>\n",
       "</div>"
      ],
      "text/plain": [
       "            Crashes\n",
       "Dates              \n",
       "2017-01-01      279\n",
       "2017-01-02      227\n",
       "2017-01-03      281\n",
       "2017-01-04      201\n",
       "2017-01-05      254\n",
       "...             ...\n",
       "2018-12-27      610\n",
       "2018-12-28      569\n",
       "2018-12-29      822\n",
       "2018-12-30      534\n",
       "2018-12-31      756\n",
       "\n",
       "[730 rows x 1 columns]"
      ]
     },
     "execution_count": 186,
     "metadata": {},
     "output_type": "execute_result"
    }
   ],
   "source": [
    "# cc_dates_index_df = cc_month_sum_df.set_index('Dates')\n",
    "# cc_month_sum_df = cc_dates_index_df.groupby(pd.Grouper(freq='MS')).count()   ## !IMPORTANT pd.Grouper uses the index as the groupby column\n",
    "\n",
    "# len(cc_month_sum_df)\n",
    "# cc_month_sum_df.dtypes\n",
    "\n",
    "# cc_month_sum_df.to_csv(\"Resources/Chicago_Monthly_Traffic_Crashes_2017-2018.csv\", index=True, header=True)\n",
    "\n",
    "cc_dates_index_df = cc_month_sum_df.set_index('Dates')\n",
    "cc_day_sum_df = cc_dates_index_df.groupby(pd.Grouper(freq='D')).count()   ## !IMPORTANT pd.Grouper uses the index as the groupby column\n",
    "# cc_day_sum_df = cc_month_sum_df.reset_index(drop=True)\n",
    "cc_day_sum_df\n",
    "# cc_day_sum_df.to_csv(\"Resources/Chicago_Daily_Traffic_Crashes_2017-2018.csv\", index=True, header=True)\n"
   ]
  },
  {
   "cell_type": "code",
   "execution_count": null,
   "metadata": {},
   "outputs": [],
   "source": []
  }
 ],
 "metadata": {
  "kernelspec": {
   "display_name": "Python 3",
   "language": "python",
   "name": "python3"
  },
  "language_info": {
   "codemirror_mode": {
    "name": "ipython",
    "version": 3
   },
   "file_extension": ".py",
   "mimetype": "text/x-python",
   "name": "python",
   "nbconvert_exporter": "python",
   "pygments_lexer": "ipython3",
   "version": "3.6.9"
  }
 },
 "nbformat": 4,
 "nbformat_minor": 2
}
